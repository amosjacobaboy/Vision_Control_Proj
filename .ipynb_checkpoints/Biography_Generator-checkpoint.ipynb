{
 "cells": [
  {
   "cell_type": "markdown",
   "id": "1dad4819-215a-49c6-9628-a90972ded837",
   "metadata": {},
   "source": [
    "### Practicing using GIT and GITHUB/VISION CONTROL"
   ]
  },
  {
   "cell_type": "code",
   "execution_count": 5,
   "id": "15478be6-23cb-4aa2-9dbe-f43eec05d127",
   "metadata": {},
   "outputs": [
    {
     "name": "stdout",
     "output_type": "stream",
     "text": [
      " Amos Aboy Your Biography is saved successfully!\n"
     ]
    }
   ],
   "source": [
    "# Writing the biography to a text file\n",
    "biography = \"\"\"\n",
    "Amos Jacob Aboy – Cohort 4 Student, PORA Tech Academy\n",
    "\n",
    "Amos Jacob Aboy is currently enrolled in the Data Analytics program at PORA Tech Academy as part of Cohort 4. \n",
    "With a passion for leveraging data to uncover valuable insights, Amos is actively engaged in the academy's curriculum, \n",
    "which starts with a month-long series of generalization courses. This foundational month provides students with the opportunity \n",
    "to either continue with their chosen field or switch to another path based on their interests.\n",
    "\n",
    "Amos is dedicated to pursuing a career in data analytics, where he plans to apply his skills to solve complex problems \n",
    "and contribute to the advancement of data-driven decision-making in various industries. His enthusiasm for learning \n",
    "and growing in the field of technology highlights his commitment to personal and professional development.\n",
    "\"\"\"\n",
    "\n",
    "# Create and save the biography to a text file\n",
    "with open(\"Amos_Jacob_Aboy_Biography.txt\", \"w\") as file:\n",
    "    file.write(biography)\n",
    "\n",
    "print(\" Amos Aboy Your Biography is saved successfully!\")\n"
   ]
  },
  {
   "cell_type": "code",
   "execution_count": null,
   "id": "6594496b-b9f2-4d54-a3f8-695b16e6cf13",
   "metadata": {},
   "outputs": [],
   "source": []
  }
 ],
 "metadata": {
  "kernelspec": {
   "display_name": "Python 3 (ipykernel)",
   "language": "python",
   "name": "python3"
  },
  "language_info": {
   "codemirror_mode": {
    "name": "ipython",
    "version": 3
   },
   "file_extension": ".py",
   "mimetype": "text/x-python",
   "name": "python",
   "nbconvert_exporter": "python",
   "pygments_lexer": "ipython3",
   "version": "3.12.4"
  }
 },
 "nbformat": 4,
 "nbformat_minor": 5
}
