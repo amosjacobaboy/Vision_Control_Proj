{
 "cells": [
  {
   "cell_type": "markdown",
   "id": "1dad4819-215a-49c6-9628-a90972ded837",
   "metadata": {},
   "source": [
    "### Practicing using GIT and GITHUB/VISION CONTROL"
   ]
  },
  {
   "cell_type": "code",
   "execution_count": 3,
   "id": "6594496b-b9f2-4d54-a3f8-695b16e6cf13",
   "metadata": {},
   "outputs": [
    {
     "name": "stdout",
     "output_type": "stream",
     "text": [
      "Amos Aboy, your biography is saved successfully in the 'Vision_Control_Proj' folder on your desktop!\n"
     ]
    }
   ],
   "source": [
    "import os\n",
    "\n",
    "# Define the path for the folder on the desktop\n",
    "desktop_path = os.path.join(os.path.expanduser(\"~\"), \"Desktop\")\n",
    "folder_path = os.path.join(desktop_path, \"Vision_Control_Proj\")\n",
    "\n",
    "# Create the folder if it doesn't exist\n",
    "os.makedirs(folder_path, exist_ok=True)\n",
    "\n",
    "# Define the file path within the folder\n",
    "file_path = os.path.join(folder_path, \"Amos_Jacob_Aboy_Biography.txt\")\n",
    "\n",
    "# Biography content\n",
    "biography = \"\"\"\n",
    "Amos Jacob Aboy – Cohort 4 Student, PORA Tech Academy\n",
    "\n",
    "Amos Jacob Aboy is currently enrolled in the Data Analytics program at PORA Tech Academy as part of Cohort 4. \n",
    "With a passion for leveraging data to uncover valuable insights, Amos is actively engaged in the academy's curriculum, \n",
    "which starts with a month-long series of generalization courses. This foundational month provides students with the opportunity \n",
    "to either continue with their chosen field or switch to another path based on their interests.\n",
    "\n",
    "Amos is dedicated to pursuing a career in data analytics, where he plans to apply his skills to solve complex problems \n",
    "and contribute to the advancement of data-driven decision-making in various industries. His enthusiasm for learning \n",
    "and growing in the field of technology highlights his commitment to personal and professional development.\n",
    "\"\"\"\n",
    "\n",
    "# Create and save the biography to the file\n",
    "with open(file_path, \"w\") as file:\n",
    "    file.write(biography)\n",
    "\n",
    "print(\"Amos Aboy, your biography is saved successfully in the 'Vision_Control_Proj' folder on your desktop!\")\n"
   ]
  },
  {
   "cell_type": "code",
   "execution_count": null,
   "id": "df21f552-3b79-4915-8093-1e71acacc9e8",
   "metadata": {},
   "outputs": [],
   "source": []
  }
 ],
 "metadata": {
  "kernelspec": {
   "display_name": "Python 3 (ipykernel)",
   "language": "python",
   "name": "python3"
  },
  "language_info": {
   "codemirror_mode": {
    "name": "ipython",
    "version": 3
   },
   "file_extension": ".py",
   "mimetype": "text/x-python",
   "name": "python",
   "nbconvert_exporter": "python",
   "pygments_lexer": "ipython3",
   "version": "3.12.4"
  }
 },
 "nbformat": 4,
 "nbformat_minor": 5
}
